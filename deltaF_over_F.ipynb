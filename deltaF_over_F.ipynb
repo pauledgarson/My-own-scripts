{
 "cells": [
  {
   "cell_type": "code",
   "execution_count": 1,
   "metadata": {},
   "outputs": [],
   "source": [
    "import numpy as np\n",
    "import nibabel as nib\n",
    "import matplotlib.pyplot as plt\n",
    "\n",
    "## Load the nifti file as img:\n",
    "img=nib.load('DataPaul1ss1regc.nii')\n"
   ]
  },
  {
   "cell_type": "code",
   "execution_count": 2,
   "metadata": {},
   "outputs": [],
   "source": [
    "## Convert image data into numpy array:\n",
    "img_data=img.get_fdata()"
   ]
  },
  {
   "cell_type": "code",
   "execution_count": 25,
   "metadata": {},
   "outputs": [
    {
     "data": {
      "image/png": "[encoded data removed]",
      "text/plain": [
       "<Figure size 432x288 with 1 Axes>"
      ]
     },
     "metadata": {
      "needs_background": "light"
     },
     "output_type": "display_data"
    }
   ],
   "source": [
    "## Plotting mean gray value from all voxels over time\n",
    "mean_gray_over_time=np.mean(img_data, axis=(0,1,2))\n",
    "plt.plot(mean_gray_over_time)\n",
    "plt.show()"
   ]
  },
  {
   "cell_type": "code",
   "execution_count": 4,
   "metadata": {},
   "outputs": [],
   "source": [
    "def rolling_average(vox_array, n=3) :\n",
    "    \"\"\"Returns the rolling average for a 1D array with a window size of n=3\"\"\"\n",
    "    ret = np.cumsum(vox_array, dtype=float)\n",
    "    ret[n:] = ret[n:] - ret[:-n]\n",
    "    return ret[n - 1:] / n"
   ]
  },
  {
   "cell_type": "code",
   "execution_count": 19,
   "metadata": {},
   "outputs": [],
   "source": [
    "## extract the gray values over time for the first voxel\n",
    "vox_1=img_data[0,0,0,:]"
   ]
  },
  {
   "cell_type": "code",
   "execution_count": 56,
   "metadata": {},
   "outputs": [
    {
     "name": "stdout",
     "output_type": "stream",
     "text": [
      "(772,)\n"
     ]
    }
   ],
   "source": [
    "print(vox_0.shape)"
   ]
  },
  {
   "cell_type": "code",
   "execution_count": 20,
   "metadata": {},
   "outputs": [],
   "source": [
    "## Calculating the rolling average for the first voxel\n",
    "ra_vox_0=rolling_average(vox_0)"
   ]
  },
  {
   "cell_type": "code",
   "execution_count": 21,
   "metadata": {},
   "outputs": [
    {
     "name": "stdout",
     "output_type": "stream",
     "text": [
      "(770,)\n"
     ]
    }
   ],
   "source": [
    "print(ra_vox_0.shape)"
   ]
  },
  {
   "cell_type": "code",
   "execution_count": 58,
   "metadata": {},
   "outputs": [
    {
     "data": {
      "image/png": "[encoded data removed]",
      "text/plain": [
       "<Figure size 432x288 with 1 Axes>"
      ]
     },
     "metadata": {
      "needs_background": "light"
     },
     "output_type": "display_data"
    }
   ],
   "source": [
    "## Plot the curves for the first voxel and rolling average of the first voxel (smoothed curve)\n",
    "plt.plot(vox_0, label='vox_0')\n",
    "plt.plot(ra_vox_0, label='ra_vox_0')\n",
    "plt.legend()\n",
    "plt.show()"
   ]
  },
  {
   "cell_type": "code",
   "execution_count": 60,
   "metadata": {},
   "outputs": [],
   "source": [
    "## Reshaping img array into 2D array with all voxels as rows and timeframes as columns\n",
    "vol_shape = img_data.shape[:-1]\n",
    "n_vox= np.prod(vol_shape)\n",
    "vox_over_t=img_data.reshape(n_vox, img_data.shape[-1])"
   ]
  },
  {
   "cell_type": "code",
   "execution_count": null,
   "metadata": {},
   "outputs": [],
   "source": [
    "## Calculating the rolling average for every voxel over time\n",
    "img_smooth=np.array([])\n",
    "for i in vox_over_t:\n",
    "    img_smooth=np.append(img_smooth, rolling_average(i))\n",
    "img_smooth=img_smooth.reshape(vox_over_t.shape[0],vox_over_t.shape[1]-2)"
   ]
  },
  {
   "cell_type": "code",
   "execution_count": 2,
   "metadata": {},
   "outputs": [
    {
     "data": {
      "text/plain": [
       "array([[0.15706411, 0.76018691, 0.83266725, 0.20109936, 0.27444845,\n",
       "        0.205515  , 0.89960867, 0.31218955, 0.63558074, 0.6712547 ],\n",
       "       [0.06571353, 0.6906525 , 0.69052129, 0.95940012, 0.50887229,\n",
       "        0.18540418, 0.26935109, 0.08702187, 0.45855912, 0.68060266],\n",
       "       [0.07237877, 0.1449723 , 0.40595289, 0.11913727, 0.68912625,\n",
       "        0.0899491 , 0.06154352, 0.62026789, 0.94990207, 0.27602109],\n",
       "       [0.8700594 , 0.63896981, 0.46531521, 0.11971446, 0.28943619,\n",
       "        0.36701048, 0.08133514, 0.10699987, 0.14306163, 0.81935843],\n",
       "       [0.07014788, 0.96204041, 0.63349769, 0.22605058, 0.99479987,\n",
       "        0.58590391, 0.23169242, 0.29619044, 0.18340346, 0.04330841],\n",
       "       [0.11176987, 0.91412857, 0.66656169, 0.03265975, 0.03903315,\n",
       "        0.06202276, 0.2792879 , 0.58325726, 0.68490226, 0.30815962],\n",
       "       [0.16096418, 0.63807485, 0.2389471 , 0.44693842, 0.40896853,\n",
       "        0.7001767 , 0.64491895, 0.64765509, 0.79889164, 0.07253606],\n",
       "       [0.33361459, 0.86226969, 0.49847881, 0.82520409, 0.01352464,\n",
       "        0.14658432, 0.88829888, 0.98918405, 0.17211517, 0.04873185],\n",
       "       [0.71715349, 0.85437979, 0.74503614, 0.54690554, 0.08358114,\n",
       "        0.41564964, 0.1607462 , 0.10158747, 0.23099064, 0.42649751],\n",
       "       [0.93256119, 0.42549927, 0.9538816 , 0.82272337, 0.26041324,\n",
       "        0.34466054, 0.21167047, 0.83456502, 0.9871642 , 0.63147195],\n",
       "       [0.38761535, 0.94823261, 0.61104978, 0.36368259, 0.45052514,\n",
       "        0.78345485, 0.23715531, 0.97978535, 0.18735389, 0.13783266],\n",
       "       [0.20274784, 0.11244917, 0.51040733, 0.94238256, 0.90070626,\n",
       "        0.63482738, 0.13169422, 0.53350619, 0.68009574, 0.20251377],\n",
       "       [0.83562356, 0.03629065, 0.35618907, 0.24865511, 0.59934915,\n",
       "        0.55509319, 0.54724671, 0.94961034, 0.6302993 , 0.60403586],\n",
       "       [0.70555987, 0.17982838, 0.11636208, 0.64729454, 0.70173749,\n",
       "        0.72335315, 0.4443073 , 0.12951604, 0.93715992, 0.61288532],\n",
       "       [0.29687862, 0.07147394, 0.52602834, 0.22785642, 0.15560582,\n",
       "        0.24868039, 0.20917929, 0.6350787 , 0.99140998, 0.75656231],\n",
       "       [0.25999642, 0.44938528, 0.84885761, 0.59261374, 0.97445718,\n",
       "        0.32053553, 0.86020829, 0.47933168, 0.09425636, 0.64960582],\n",
       "       [0.36891659, 0.94977139, 0.52320102, 0.54589977, 0.94219677,\n",
       "        0.61455085, 0.69442195, 0.50684739, 0.96385047, 0.96442401],\n",
       "       [0.73074713, 0.22372067, 0.5465138 , 0.89746708, 0.33515869,\n",
       "        0.5461908 , 0.19507492, 0.80045482, 0.61330071, 0.68588308],\n",
       "       [0.25750136, 0.5959201 , 0.30745771, 0.17575815, 0.21005687,\n",
       "        0.85294427, 0.98168185, 0.77036103, 0.57287597, 0.43923475],\n",
       "       [0.13157039, 0.70799392, 0.73143934, 0.27892927, 0.40548196,\n",
       "        0.45610012, 0.43020628, 0.78765846, 0.74707494, 0.42009517],\n",
       "       [0.24037571, 0.08665938, 0.7167352 , 0.86741486, 0.37415611,\n",
       "        0.29511055, 0.75729294, 0.32611201, 0.08396834, 0.35766214],\n",
       "       [0.49146668, 0.20159504, 0.57435298, 0.42681917, 0.7764133 ,\n",
       "        0.12485115, 0.64085649, 0.4355707 , 0.41816818, 0.54029477],\n",
       "       [0.17722597, 0.7185197 , 0.9178499 , 0.91849275, 0.15222857,\n",
       "        0.71192216, 0.31158852, 0.89068886, 0.34179796, 0.86741843],\n",
       "       [0.09762441, 0.75261815, 0.06813877, 0.16423988, 0.82356246,\n",
       "        0.31310707, 0.42960111, 0.37290077, 0.46797302, 0.27956938],\n",
       "       [0.58312126, 0.85213519, 0.10052174, 0.52459392, 0.7658782 ,\n",
       "        0.52300094, 0.999248  , 0.83461742, 0.26340454, 0.33772339],\n",
       "       [0.58200354, 0.92340484, 0.87831252, 0.22122613, 0.10040428,\n",
       "        0.07875207, 0.76616509, 0.26902832, 0.38837899, 0.21532834],\n",
       "       [0.53216823, 0.22199401, 0.61544181, 0.31156825, 0.17969575,\n",
       "        0.88172573, 0.26774206, 0.98162877, 0.1094898 , 0.27570462]])"
      ]
     },
     "execution_count": 2,
     "metadata": {},
     "output_type": "execute_result"
    }
   ],
   "source": [
    "##Testing reshaping code on small 4D array\n",
    "test_arr=np.random.rand(270).reshape(3,3,3,10)\n",
    "test_reshape=test_arr.reshape(27,10)\n",
    "test_reshape\n"
   ]
  },
  {
   "cell_type": "code",
   "execution_count": 45,
   "metadata": {},
   "outputs": [
    {
     "data": {
      "text/plain": [
       "array([[0.58330609, 0.59798451, 0.43607169, 0.22702094, 0.45985737,\n",
       "        0.47243774, 0.61579299, 0.539675  ],\n",
       "       [0.48229577, 0.7801913 , 0.7195979 , 0.55122553, 0.32120919,\n",
       "        0.18059238, 0.27164403, 0.40872788],\n",
       "       [0.20776799, 0.22335416, 0.4047388 , 0.29940421, 0.28020629,\n",
       "        0.2572535 , 0.54390449, 0.61539702],\n",
       "       [0.65811481, 0.40799983, 0.29148862, 0.25872038, 0.24592727,\n",
       "        0.18511516, 0.11046555, 0.35647331],\n",
       "       [0.55522866, 0.60719622, 0.61811605, 0.60225145, 0.60413207,\n",
       "        0.37126226, 0.23709544, 0.17430077],\n",
       "       [0.56415338, 0.53778334, 0.24608486, 0.04457189, 0.12678127,\n",
       "        0.30818931, 0.51581581, 0.52543971],\n",
       "       [0.34599538, 0.44132012, 0.36495135, 0.51869455, 0.58468806,\n",
       "        0.66425025, 0.69715523, 0.50636093],\n",
       "       [0.5647877 , 0.72865086, 0.44573584, 0.32843768, 0.34946928,\n",
       "        0.67468908, 0.68319937, 0.40334369],\n",
       "       [0.7721898 , 0.71544049, 0.45850761, 0.34871211, 0.21999233,\n",
       "        0.22599444, 0.16444143, 0.25302521],\n",
       "       [0.77064735, 0.73403475, 0.67900607, 0.47593238, 0.27224808,\n",
       "        0.46363201, 0.6777999 , 0.81773372],\n",
       "       [0.64896591, 0.64098833, 0.47508584, 0.53255419, 0.49037843,\n",
       "        0.6667985 , 0.46809819, 0.43499064],\n",
       "       [0.27520145, 0.52174635, 0.78449872, 0.82597207, 0.55574262,\n",
       "        0.4333426 , 0.44843205, 0.47203857],\n",
       "       [0.40936776, 0.21371161, 0.40139778, 0.46769915, 0.56722968,\n",
       "        0.68398341, 0.70905211, 0.72798183],\n",
       "       [0.33391678, 0.314495  , 0.4884647 , 0.69079506, 0.62313265,\n",
       "        0.43239216, 0.50366108, 0.55985376],\n",
       "       [0.29812696, 0.27511957, 0.30316353, 0.21071421, 0.2044885 ,\n",
       "        0.36431279, 0.61188932, 0.79435033],\n",
       "       [0.5194131 , 0.63028554, 0.80530951, 0.62920215, 0.71840034,\n",
       "        0.5533585 , 0.47793211, 0.40773129],\n",
       "       [0.613963  , 0.67295739, 0.67043252, 0.70088246, 0.75038986,\n",
       "        0.6052734 , 0.7217066 , 0.81170729],\n",
       "       [0.5003272 , 0.55590051, 0.59304652, 0.59293886, 0.35880814,\n",
       "        0.51390685, 0.53627682, 0.69987954],\n",
       "       [0.38695972, 0.35971199, 0.23109091, 0.41291976, 0.681561  ,\n",
       "        0.86832905, 0.77497295, 0.59415725],\n",
       "       [0.52366788, 0.57278751, 0.47195019, 0.38017045, 0.43059612,\n",
       "        0.55798829, 0.65497989, 0.65160952],\n",
       "       [0.34792343, 0.55693648, 0.65276872, 0.51222717, 0.47551987,\n",
       "        0.45950517, 0.38912443, 0.25591417],\n",
       "       [0.42247157, 0.4009224 , 0.59252848, 0.44269454, 0.51404031,\n",
       "        0.40042611, 0.49819846, 0.46467788],\n",
       "       [0.60453186, 0.85162078, 0.66285707, 0.59421449, 0.39191308,\n",
       "        0.63806651, 0.51469178, 0.69996842],\n",
       "       [0.30612711, 0.32833226, 0.35198037, 0.43363647, 0.52209021,\n",
       "        0.37186965, 0.42349163, 0.37348106],\n",
       "       [0.51192607, 0.49241695, 0.46366462, 0.60449102, 0.76270905,\n",
       "        0.78562212, 0.69908999, 0.47858179],\n",
       "       [0.79457363, 0.6743145 , 0.39998098, 0.13346083, 0.31510715,\n",
       "        0.37131516, 0.47452413, 0.29091188],\n",
       "       [0.45653468, 0.38300136, 0.36890194, 0.45766325, 0.44305452,\n",
       "        0.71036552, 0.45295355, 0.45560773]])"
      ]
     },
     "execution_count": 45,
     "metadata": {},
     "output_type": "execute_result"
    }
   ],
   "source": [
    "## Testing loop to calculate rolling average for every voxel \n",
    "smooth=np.array([])\n",
    "for i in test_reshape:\n",
    "    smooth=np.append(smooth, rolling_average(i))\n",
    "smooth=smooth.reshape(27,8)\n",
    "smooth"
   ]
  },
  {
   "cell_type": "code",
   "execution_count": 46,
   "metadata": {},
   "outputs": [
    {
     "data": {
      "text/plain": [
       "array([[0.58330609, 0.58330609, 0.59798451, 0.43607169, 0.22702094,\n",
       "        0.45985737, 0.47243774, 0.61579299, 0.539675  , 0.539675  ],\n",
       "       [0.48229577, 0.48229577, 0.7801913 , 0.7195979 , 0.55122553,\n",
       "        0.32120919, 0.18059238, 0.27164403, 0.40872788, 0.40872788],\n",
       "       [0.20776799, 0.20776799, 0.22335416, 0.4047388 , 0.29940421,\n",
       "        0.28020629, 0.2572535 , 0.54390449, 0.61539702, 0.61539702],\n",
       "       [0.65811481, 0.65811481, 0.40799983, 0.29148862, 0.25872038,\n",
       "        0.24592727, 0.18511516, 0.11046555, 0.35647331, 0.35647331],\n",
       "       [0.55522866, 0.55522866, 0.60719622, 0.61811605, 0.60225145,\n",
       "        0.60413207, 0.37126226, 0.23709544, 0.17430077, 0.17430077],\n",
       "       [0.56415338, 0.56415338, 0.53778334, 0.24608486, 0.04457189,\n",
       "        0.12678127, 0.30818931, 0.51581581, 0.52543971, 0.52543971],\n",
       "       [0.34599538, 0.34599538, 0.44132012, 0.36495135, 0.51869455,\n",
       "        0.58468806, 0.66425025, 0.69715523, 0.50636093, 0.50636093],\n",
       "       [0.5647877 , 0.5647877 , 0.72865086, 0.44573584, 0.32843768,\n",
       "        0.34946928, 0.67468908, 0.68319937, 0.40334369, 0.40334369],\n",
       "       [0.7721898 , 0.7721898 , 0.71544049, 0.45850761, 0.34871211,\n",
       "        0.21999233, 0.22599444, 0.16444143, 0.25302521, 0.25302521],\n",
       "       [0.77064735, 0.77064735, 0.73403475, 0.67900607, 0.47593238,\n",
       "        0.27224808, 0.46363201, 0.6777999 , 0.81773372, 0.81773372],\n",
       "       [0.64896591, 0.64896591, 0.64098833, 0.47508584, 0.53255419,\n",
       "        0.49037843, 0.6667985 , 0.46809819, 0.43499064, 0.43499064],\n",
       "       [0.27520145, 0.27520145, 0.52174635, 0.78449872, 0.82597207,\n",
       "        0.55574262, 0.4333426 , 0.44843205, 0.47203857, 0.47203857],\n",
       "       [0.40936776, 0.40936776, 0.21371161, 0.40139778, 0.46769915,\n",
       "        0.56722968, 0.68398341, 0.70905211, 0.72798183, 0.72798183],\n",
       "       [0.33391678, 0.33391678, 0.314495  , 0.4884647 , 0.69079506,\n",
       "        0.62313265, 0.43239216, 0.50366108, 0.55985376, 0.55985376],\n",
       "       [0.29812696, 0.29812696, 0.27511957, 0.30316353, 0.21071421,\n",
       "        0.2044885 , 0.36431279, 0.61188932, 0.79435033, 0.79435033],\n",
       "       [0.5194131 , 0.5194131 , 0.63028554, 0.80530951, 0.62920215,\n",
       "        0.71840034, 0.5533585 , 0.47793211, 0.40773129, 0.40773129],\n",
       "       [0.613963  , 0.613963  , 0.67295739, 0.67043252, 0.70088246,\n",
       "        0.75038986, 0.6052734 , 0.7217066 , 0.81170729, 0.81170729],\n",
       "       [0.5003272 , 0.5003272 , 0.55590051, 0.59304652, 0.59293886,\n",
       "        0.35880814, 0.51390685, 0.53627682, 0.69987954, 0.69987954],\n",
       "       [0.38695972, 0.38695972, 0.35971199, 0.23109091, 0.41291976,\n",
       "        0.681561  , 0.86832905, 0.77497295, 0.59415725, 0.59415725],\n",
       "       [0.52366788, 0.52366788, 0.57278751, 0.47195019, 0.38017045,\n",
       "        0.43059612, 0.55798829, 0.65497989, 0.65160952, 0.65160952],\n",
       "       [0.34792343, 0.34792343, 0.55693648, 0.65276872, 0.51222717,\n",
       "        0.47551987, 0.45950517, 0.38912443, 0.25591417, 0.25591417],\n",
       "       [0.42247157, 0.42247157, 0.4009224 , 0.59252848, 0.44269454,\n",
       "        0.51404031, 0.40042611, 0.49819846, 0.46467788, 0.46467788],\n",
       "       [0.60453186, 0.60453186, 0.85162078, 0.66285707, 0.59421449,\n",
       "        0.39191308, 0.63806651, 0.51469178, 0.69996842, 0.69996842],\n",
       "       [0.30612711, 0.30612711, 0.32833226, 0.35198037, 0.43363647,\n",
       "        0.52209021, 0.37186965, 0.42349163, 0.37348106, 0.37348106],\n",
       "       [0.51192607, 0.51192607, 0.49241695, 0.46366462, 0.60449102,\n",
       "        0.76270905, 0.78562212, 0.69908999, 0.47858179, 0.47858179],\n",
       "       [0.79457363, 0.79457363, 0.6743145 , 0.39998098, 0.13346083,\n",
       "        0.31510715, 0.37131516, 0.47452413, 0.29091188, 0.29091188],\n",
       "       [0.45653468, 0.45653468, 0.38300136, 0.36890194, 0.45766325,\n",
       "        0.44305452, 0.71036552, 0.45295355, 0.45560773, 0.45560773]])"
      ]
     },
     "execution_count": 46,
     "metadata": {},
     "output_type": "execute_result"
    }
   ],
   "source": [
    "## Testing code for filling the first two values that are missing after calculating the rolling average with the first average value, to obtain an arry with the same number of timeframes as the original data\n",
    "for i in range (1):\n",
    "    smooth=np.insert(smooth, 0, smooth[:,0], axis=1)\n",
    "    smooth=np.insert(smooth, -1, smooth[:,-1], axis=1)\n",
    "smooth"
   ]
  },
  {
   "cell_type": "code",
   "execution_count": 34,
   "metadata": {},
   "outputs": [
    {
     "data": {
      "text/plain": [
       "array([[0.30575034, 0.58330609, 0.59798451, 0.43607169, 0.22702094,\n",
       "        0.45985737, 0.47243774, 0.61579299, 0.539675  , 0.43561181],\n",
       "       [0.25212201, 0.48229577, 0.7801913 , 0.7195979 , 0.55122553,\n",
       "        0.32120919, 0.18059238, 0.27164403, 0.40872788, 0.37972059],\n",
       "       [0.07245036, 0.20776799, 0.22335416, 0.4047388 , 0.29940421,\n",
       "        0.28020629, 0.2572535 , 0.54390449, 0.61539702, 0.40864106],\n",
       "       [0.50300974, 0.65811481, 0.40799983, 0.29148862, 0.25872038,\n",
       "        0.24592727, 0.18511516, 0.11046555, 0.35647331, 0.32080669],\n",
       "       [0.34406276, 0.55522866, 0.60719622, 0.61811605, 0.60225145,\n",
       "        0.60413207, 0.37126226, 0.23709544, 0.17430077, 0.07557062],\n",
       "       [0.34196615, 0.56415338, 0.53778334, 0.24608486, 0.04457189,\n",
       "        0.12678127, 0.30818931, 0.51581581, 0.52543971, 0.33102062],\n",
       "       [0.26634634, 0.34599538, 0.44132012, 0.36495135, 0.51869455,\n",
       "        0.58468806, 0.66425025, 0.69715523, 0.50636093, 0.2904759 ],\n",
       "       [0.39862809, 0.5647877 , 0.72865086, 0.44573584, 0.32843768,\n",
       "        0.34946928, 0.67468908, 0.68319937, 0.40334369, 0.07361567],\n",
       "       [0.52384443, 0.7721898 , 0.71544049, 0.45850761, 0.34871211,\n",
       "        0.21999233, 0.22599444, 0.16444143, 0.25302521, 0.21916272],\n",
       "       [0.45268682, 0.77064735, 0.73403475, 0.67900607, 0.47593238,\n",
       "        0.27224808, 0.46363201, 0.6777999 , 0.81773372, 0.53954538],\n",
       "       [0.44528265, 0.64896591, 0.64098833, 0.47508584, 0.53255419,\n",
       "        0.49037843, 0.6667985 , 0.46809819, 0.43499064, 0.10839552],\n",
       "       [0.10506567, 0.27520145, 0.52174635, 0.78449872, 0.82597207,\n",
       "        0.55574262, 0.4333426 , 0.44843205, 0.47203857, 0.29420317],\n",
       "       [0.29063807, 0.40936776, 0.21371161, 0.40139778, 0.46769915,\n",
       "        0.56722968, 0.68398341, 0.70905211, 0.72798183, 0.41144505],\n",
       "       [0.29512942, 0.33391678, 0.314495  , 0.4884647 , 0.69079506,\n",
       "        0.62313265, 0.43239216, 0.50366108, 0.55985376, 0.51668175],\n",
       "       [0.12278418, 0.29812696, 0.27511957, 0.30316353, 0.21071421,\n",
       "        0.2044885 , 0.36431279, 0.61188932, 0.79435033, 0.58265743],\n",
       "       [0.23646057, 0.5194131 , 0.63028554, 0.80530951, 0.62920215,\n",
       "        0.71840034, 0.5533585 , 0.47793211, 0.40773129, 0.24795406],\n",
       "       [0.43956266, 0.613963  , 0.67295739, 0.67043252, 0.70088246,\n",
       "        0.75038986, 0.6052734 , 0.7217066 , 0.81170729, 0.64275816],\n",
       "       [0.31815593, 0.5003272 , 0.55590051, 0.59304652, 0.59293886,\n",
       "        0.35880814, 0.51390685, 0.53627682, 0.69987954, 0.43306126],\n",
       "       [0.28447382, 0.38695972, 0.35971199, 0.23109091, 0.41291976,\n",
       "        0.681561  , 0.86832905, 0.77497295, 0.59415725, 0.33737024],\n",
       "       [0.27985477, 0.52366788, 0.57278751, 0.47195019, 0.38017045,\n",
       "        0.43059612, 0.55798829, 0.65497989, 0.65160952, 0.3890567 ],\n",
       "       [0.1090117 , 0.34792343, 0.55693648, 0.65276872, 0.51222717,\n",
       "        0.47551987, 0.45950517, 0.38912443, 0.25591417, 0.14721016],\n",
       "       [0.23102057, 0.42247157, 0.4009224 , 0.59252848, 0.44269454,\n",
       "        0.51404031, 0.40042611, 0.49819846, 0.46467788, 0.31948765],\n",
       "       [0.29858189, 0.60453186, 0.85162078, 0.66285707, 0.59421449,\n",
       "        0.39191308, 0.63806651, 0.51469178, 0.69996842, 0.40307213],\n",
       "       [0.28341419, 0.30612711, 0.32833226, 0.35198037, 0.43363647,\n",
       "        0.52209021, 0.37186965, 0.42349163, 0.37348106, 0.2491808 ],\n",
       "       [0.47841882, 0.51192607, 0.49241695, 0.46366462, 0.60449102,\n",
       "        0.76270905, 0.78562212, 0.69908999, 0.47858179, 0.20037598],\n",
       "       [0.50180279, 0.79457363, 0.6743145 , 0.39998098, 0.13346083,\n",
       "        0.31510715, 0.37131516, 0.47452413, 0.29091188, 0.20123578],\n",
       "       [0.25138741, 0.45653468, 0.38300136, 0.36890194, 0.45766325,\n",
       "        0.44305452, 0.71036552, 0.45295355, 0.45560773, 0.12839814]])"
      ]
     },
     "execution_count": 34,
     "metadata": {},
     "output_type": "execute_result"
    }
   ],
   "source": [
    "## alternative solutions that retains the shape of the array (Does'nt cut of the first and the last number)\n",
    "def moving_average(x, w=3):\n",
    "    return np.convolve(x, np.ones(w), 'same') / w\n",
    "\n",
    "smooth_conv=np.array([])\n",
    "for i in test_reshape:\n",
    "    smooth_conv=np.append(smooth_conv, moving_average(i))\n",
    "smooth_conv=smooth_conv.reshape(27,10)\n",
    "smooth_conv"
   ]
  },
  {
   "cell_type": "code",
   "execution_count": 47,
   "metadata": {},
   "outputs": [
    {
     "data": {
      "text/plain": [
       "<function matplotlib.pyplot.show(*args, **kw)>"
      ]
     },
     "execution_count": 47,
     "metadata": {},
     "output_type": "execute_result"
    },
    {
     "data": {
      "image/png": "[encoded data removed]",
      "text/plain": [
       "<Figure size 432x288 with 1 Axes>"
      ]
     },
     "metadata": {
      "needs_background": "light"
     },
     "output_type": "display_data"
    }
   ],
   "source": [
    "plt.plot(test_reshape.mean(axis=1), label='test')\n",
    "plt.plot(smooth.mean(axis=1), label='smooth')\n",
    "plt.plot(smooth_conv.mean(axis=1), label='conv')\n",
    "plt.legend()\n",
    "plt.show"
   ]
  },
  {
   "cell_type": "code",
   "execution_count": 52,
   "metadata": {},
   "outputs": [
    {
     "data": {
      "text/plain": [
       "array([[[[-0.13819073,  0.31400173, -0.175811  , -0.16556986,\n",
       "          -0.9848688 ,  0.99291232, -0.27640491,  0.36714735,\n",
       "          -0.76225333, -0.11772056],\n",
       "         [-0.17095562, -0.20798389,  0.37893951, -0.30615927,\n",
       "          -0.73323363,  0.99104745,  0.59127068,  0.32651259,\n",
       "          -0.16367659, -0.24635759],\n",
       "         [-0.06160116,  0.4051532 , -0.34355204, -0.52054904,\n",
       "           0.33925424, -0.3268296 ,  0.63550091,  0.34762328,\n",
       "          -0.37984666, -0.59818534]],\n",
       "\n",
       "        [[-0.64899619,  0.51111273,  0.13788346, -0.48445722,\n",
       "           0.16578116, -0.19018103, -0.26524589,  0.1806823 ,\n",
       "           0.24539373, -0.53253605],\n",
       "         [-0.38146615,  0.69761091, -0.31614476, -0.79190771,\n",
       "           1.00249098,  0.38606242, -0.73730985, -0.80453548,\n",
       "           1.08220484,  0.66583827],\n",
       "         [-0.19710617,  0.60369999, -0.40659382,  0.41455661,\n",
       "           0.33399962, -0.60145874, -0.04511755, -0.53933823,\n",
       "           0.562045  ,  0.60477624]],\n",
       "\n",
       "        [[ 0.02900835,  0.44402412, -0.47303247,  0.04133788,\n",
       "          -0.2534893 ,  0.31061932, -0.91763809, -0.82644333,\n",
       "           1.31005591,  1.09799805],\n",
       "         [ 0.06786505,  0.08268425, -0.1505493 , -0.18853164,\n",
       "          -0.18208833,  0.13978079, -0.17738652,  0.31819187,\n",
       "          -0.44702074, -0.55457369],\n",
       "         [-0.029931  , -0.91891407,  0.94884507,  0.36587329,\n",
       "          -0.03243467, -0.90358107,  0.30281554,  0.11466682,\n",
       "          -0.08091876, -0.39490645]]],\n",
       "\n",
       "\n",
       "       [[[ 0.13059131,  0.34974884, -0.48034015, -0.96168309,\n",
       "           1.59403792,  0.32120334, -0.33079744, -0.92187579,\n",
       "           0.84936285,  0.35980641],\n",
       "         [-0.99007334,  1.1003264 , -0.11025306,  0.27403352,\n",
       "          -0.33442456, -0.06990904,  0.42796637,  0.18087745,\n",
       "          -0.47605674,  0.00497625],\n",
       "         [ 0.89891623, -0.49975083, -0.3991654 ,  0.6537584 ,\n",
       "          -0.59051192, -0.018598  , -0.26233115,  1.0199875 ,\n",
       "           0.46404603, -0.16748301]],\n",
       "\n",
       "        [[ 0.15248773,  0.0197426 , -0.17223033, -0.08732483,\n",
       "          -0.08276318,  0.5260028 , -0.85154302,  0.04553007,\n",
       "           0.11627591, -0.18223302],\n",
       "         [-0.62134145, -0.5403045 ,  1.16164594,  0.35526365,\n",
       "          -0.89777629, -0.58691089,  0.90872383, -0.31523232,\n",
       "           1.26544775,  0.53020502],\n",
       "         [-0.74234174, -0.54982681,  1.29216855, -0.11027743,\n",
       "           0.55381167,  0.24328761, -0.629439  , -0.04265452,\n",
       "          -0.28465844,  0.22644392]],\n",
       "\n",
       "        [[ 0.72564152, -0.67039162, -0.0552499 ,  0.96872878,\n",
       "           0.50322811, -0.28004343, -0.21575488, -0.60598749,\n",
       "           0.31216516,  0.56760535],\n",
       "         [ 0.23439274,  0.12006146, -0.35445421,  0.92279308,\n",
       "           0.32229301, -0.03875176, -0.18944005,  0.14850923,\n",
       "           0.10998663, -0.65762213],\n",
       "         [-0.37230414,  0.41614186, -0.04383771, -0.47210669,\n",
       "           0.15276576,  0.46563648, -0.44717131,  0.19704137,\n",
       "           0.15664163, -0.01616916]]],\n",
       "\n",
       "\n",
       "       [[[ 0.45238332,  0.0754231 , -0.52780643,  0.07688447,\n",
       "           0.1521531 ,  0.61416247, -0.52544421,  0.26884893,\n",
       "          -0.78122276,  0.4109568 ],\n",
       "         [ 0.32479833,  0.11729178, -0.44209011,  0.20439354,\n",
       "          -0.8890444 , -0.19633878,  0.391471  ,  0.33580208,\n",
       "          -0.88708872, -0.10177999],\n",
       "         [-0.47492371,  0.96561746, -0.49069375,  0.08321534,\n",
       "           0.43772398, -0.78442741, -0.33142296,  0.57145081,\n",
       "          -0.3262867 ,  0.32868699]],\n",
       "\n",
       "        [[ 0.60391751,  0.07441342, -0.67833093,  0.77077697,\n",
       "           0.53600723, -0.92129286,  0.43732009,  0.05018843,\n",
       "          -0.1714418 ,  0.42716475],\n",
       "         [-0.12025577,  1.01179209, -0.89153631,  0.62086762,\n",
       "          -0.01780956, -0.30847423,  0.27446377, -0.51334971,\n",
       "           0.18094349, -0.15071619],\n",
       "         [ 0.46142744,  0.20690022, -0.66832766,  0.43473345,\n",
       "           0.04388886,  0.0370366 , -0.17629363,  0.26888564,\n",
       "           0.1491345 , -0.81562425]],\n",
       "\n",
       "        [[ 0.49680061, -0.98912681,  0.49232621,  0.9497716 ,\n",
       "           0.15740234, -0.02565685, -0.58965526,  0.33974532,\n",
       "          -0.44174024, -0.864647  ],\n",
       "         [-0.458956  , -0.44035929,  0.89931529,  0.1807612 ,\n",
       "          -0.28674003, -0.15017344,  0.19285906,  0.25994523,\n",
       "          -0.32868915,  0.0785144 ],\n",
       "         [-0.0087765 , -0.31451253,  0.32328904,  0.16835771,\n",
       "          -0.5127319 ,  0.27422397,  0.00592902, -0.96021219,\n",
       "          -0.56056355,  1.53126586]]]])"
      ]
     },
     "execution_count": 52,
     "metadata": {},
     "output_type": "execute_result"
    }
   ],
   "source": [
    "## Testing code for reshaping data back into 4D and calculating df over f\n",
    "smooth_4d=smooth.reshape(3,3,3,10)\n",
    "df_over_f=(test_arr-smooth_4d)/smooth_4d\n",
    "df_over_f"
   ]
  },
  {
   "cell_type": "code",
   "execution_count": 57,
   "metadata": {},
   "outputs": [
    {
     "data": {
      "text/plain": [
       "<function matplotlib.pyplot.show(*args, **kw)>"
      ]
     },
     "execution_count": 57,
     "metadata": {},
     "output_type": "execute_result"
    },
    {
     "data": {
      "image/png": "[encoded data removed]",
      "text/plain": [
       "<Figure size 432x288 with 1 Axes>"
      ]
     },
     "metadata": {
      "needs_background": "light"
     },
     "output_type": "display_data"
    }
   ],
   "source": [
    "## Plotting test data\n",
    "plt.plot(test_arr.mean(axis=(0,1,2)), label='test_arr')\n",
    "plt.plot(df_over_f.mean(axis=(0,1,2)), label='deltaf')\n",
    "plt.legend()\n",
    "plt.show"
   ]
  }
 ],
 "metadata": {
  "kernelspec": {
   "display_name": "Python 3",
   "language": "python",
   "name": "python3"
  },
  "language_info": {
   "codemirror_mode": {
    "name": "ipython",
    "version": 3
   },
   "file_extension": ".py",
   "mimetype": "text/x-python",
   "name": "python",
   "nbconvert_exporter": "python",
   "pygments_lexer": "ipython3",
   "version": "3.7.6"
  }
 },
 "nbformat": 4,
 "nbformat_minor": 4
}
